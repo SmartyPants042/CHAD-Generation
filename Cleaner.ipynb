{
 "cells": [
  {
   "cell_type": "code",
   "execution_count": 35,
   "metadata": {},
   "outputs": [
    {
     "name": "stdout",
     "output_type": "stream",
     "text": [
      "{'body': 'Now I have to say \"Leroy can you please paint the fence?\"', 'id': '5tz52q', 'score': 1, 'title': 'I hate how you cant even say black paint anymore'}\n"
     ]
    }
   ],
   "source": [
    "import json\n",
    "with open('reddit_jokes.json') as f:\n",
    "    data = json.load(f)\n",
    "print(data[0])"
   ]
  },
  {
   "cell_type": "code",
   "execution_count": 36,
   "metadata": {},
   "outputs": [],
   "source": [
    "cleaned = []"
   ]
  },
  {
   "cell_type": "code",
   "execution_count": 37,
   "metadata": {},
   "outputs": [
    {
     "name": "stdout",
     "output_type": "stream",
     "text": [
      "249.49776153541708\n"
     ]
    }
   ],
   "source": [
    "items,total = 0,0\n",
    "for item in data:\n",
    "    setup = item['body']\n",
    "    punch = item['title']\n",
    "    total += len(setup) + len(punch)\n",
    "    items += 1\n",
    "avg = total/items\n",
    "print(avg)"
   ]
  },
  {
   "cell_type": "code",
   "execution_count": 38,
   "metadata": {},
   "outputs": [
    {
     "name": "stdout",
     "output_type": "stream",
     "text": [
      "155162\n"
     ]
    }
   ],
   "source": [
    "items,total = 0,0\n",
    "for item in data:\n",
    "    setup = item['title']\n",
    "    punch = item['body']\n",
    "    size = len(setup) + len(punch)\n",
    "    if ((setup.count('.')>1 or punch.count('.')>1) and size>avg) or size>2*avg:\n",
    "        continue\n",
    "    entry = {}\n",
    "    entry['setup'] = setup\n",
    "    entry['punch'] = punch\n",
    "    cleaned.append(entry)\n",
    "    items+=1\n",
    "with open('cleaned_jokes.json', 'w') as fout:\n",
    "    json.dump(cleaned, fout)\n",
    "print(items)"
   ]
  },
  {
   "cell_type": "code",
   "execution_count": 39,
   "metadata": {},
   "outputs": [
    {
     "name": "stdout",
     "output_type": "stream",
     "text": [
      "{'setup': 'My Circus career', 'punch': 'My mom and my dad want to send me to a circus to learn how to ride a unicycle(here comes dai boi oh shit waddup)and others so after  a while i got bored and i want to learn sword swallowing so i ask my mom to let me learn sword swallowing and she was so angry and tell me to not talk to her again so i got upset and tell my father,My father laugh at me saying your mother taught you were gay \\n\\n\\n\\n\\n\\n\\n\\n\\n\\n\\ndo you get it if you dont it is sword swallowing can be related to cock sucking'} 498\n"
     ]
    }
   ],
   "source": [
    "with open('cleaned_jokes.json') as f:\n",
    "    new_data = json.load(f)\n",
    "prev = 0\n",
    "for i in new_data:\n",
    "    if len(i['setup'])+len(i['punch']) > prev:\n",
    "        prev = len(i['setup'])+len(i['punch'])\n",
    "        ans = i\n",
    "print(ans, prev)"
   ]
  },
  {
   "cell_type": "code",
   "execution_count": 40,
   "metadata": {},
   "outputs": [],
   "source": [
    "import pandas as pd"
   ]
  },
  {
   "cell_type": "code",
   "execution_count": 41,
   "metadata": {},
   "outputs": [],
   "source": [
    "f = open('cleaned_jokes.json')\n",
    "data = json.load(f)\n",
    "df = pd.DataFrame(data)\n",
    "df.to_csv('cleaned_jokes.csv')"
   ]
  },
  {
   "cell_type": "code",
   "execution_count": null,
   "metadata": {},
   "outputs": [],
   "source": []
  },
  {
   "cell_type": "code",
   "execution_count": null,
   "metadata": {},
   "outputs": [],
   "source": []
  }
 ],
 "metadata": {
  "kernelspec": {
   "display_name": "Python 3",
   "language": "python",
   "name": "python3"
  },
  "language_info": {
   "codemirror_mode": {
    "name": "ipython",
    "version": 3
   },
   "file_extension": ".py",
   "mimetype": "text/x-python",
   "name": "python",
   "nbconvert_exporter": "python",
   "pygments_lexer": "ipython3",
   "version": "3.8.5"
  }
 },
 "nbformat": 4,
 "nbformat_minor": 4
}
