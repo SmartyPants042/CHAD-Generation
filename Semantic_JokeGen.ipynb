{
 "cells": [
  {
   "cell_type": "code",
   "execution_count": 57,
   "metadata": {},
   "outputs": [],
   "source": [
    "import json"
   ]
  },
  {
   "cell_type": "code",
   "execution_count": 58,
   "metadata": {},
   "outputs": [],
   "source": [
    "from nltk.corpus import wordnet\n",
    "from nltk import pos_tag"
   ]
  },
  {
   "cell_type": "code",
   "execution_count": 4,
   "metadata": {},
   "outputs": [],
   "source": [
    "f = open('word_cleaned_jokes.json')\n",
    "data = json.load(f)"
   ]
  },
  {
   "cell_type": "code",
   "execution_count": 5,
   "metadata": {},
   "outputs": [
    {
     "data": {
      "text/plain": [
       "[{'setup': 'hate cant even say black paint anymore',\n",
       "  'punch': 'say leroy please paint fence',\n",
       "  'tags': 'VB NN VB VB NN'},\n",
       " {'setup': 'whats difference jew nazi germany pizza',\n",
       "  'punch': 'pizza doesnt scream put oven im sorry',\n",
       "  'tags': 'NN NN NN VBP JJ NNP JJ'}]"
      ]
     },
     "execution_count": 5,
     "metadata": {},
     "output_type": "execute_result"
    }
   ],
   "source": [
    "data[:2]"
   ]
  },
  {
   "cell_type": "code",
   "execution_count": 6,
   "metadata": {},
   "outputs": [],
   "source": [
    "from collections import Counter\n",
    "c = Counter()\n",
    "bruh = {}"
   ]
  },
  {
   "cell_type": "code",
   "execution_count": 106,
   "metadata": {},
   "outputs": [
    {
     "name": "stdout",
     "output_type": "stream",
     "text": [
      "india\n"
     ]
    }
   ],
   "source": [
    "inp = str(input())"
   ]
  },
  {
   "cell_type": "code",
   "execution_count": 111,
   "metadata": {},
   "outputs": [
    {
     "data": {
      "text/plain": [
       "['long', 'wont', 'indian', 'lines']"
      ]
     },
     "execution_count": 111,
     "metadata": {},
     "output_type": "execute_result"
    }
   ],
   "source": [
    "c = Counter()\n",
    "for sent in data:\n",
    "    setup = sent['setup'].split(' ')\n",
    "    punch = sent['punch'].split(' ')\n",
    "    #print(setup, punch)\n",
    "    if inp in setup:\n",
    "        for x in punch:\n",
    "            if len(x)>3:\n",
    "                c[x]+=1\n",
    "punchwords = c.most_common(6)\n",
    "funny_words = []\n",
    "for i in punchwords:\n",
    "    if wordnet.synsets(i[0]):\n",
    "        if not i[0]==inp:\n",
    "            funny_words.append(i[0])\n",
    "funny_words"
   ]
  },
  {
   "cell_type": "code",
   "execution_count": 112,
   "metadata": {},
   "outputs": [],
   "source": [
    "funny_tags = []\n",
    "inp_nouns, inp_verbs, inp_adjs = [],[],[]\n",
    "for i in funny_words:\n",
    "    x = pos_tag([i])\n",
    "    x = x[0][1]\n",
    "    if x[0]=='N':\n",
    "        inp_nouns.append(i)\n",
    "    if x[0]=='V':\n",
    "        inp_verbs.append(i)\n",
    "    if x[0]=='R' or x[0]=='J':\n",
    "        inp_adjs.append(i)"
   ]
  },
  {
   "cell_type": "code",
   "execution_count": 113,
   "metadata": {},
   "outputs": [],
   "source": [
    "f2 = open('templates.json')\n",
    "temp_data = json.load(f2)"
   ]
  },
  {
   "cell_type": "code",
   "execution_count": 114,
   "metadata": {},
   "outputs": [
    {
     "name": "stdout",
     "output_type": "stream",
     "text": [
      "what do toast and wont have in long  \n",
      " when they are indian you have no lines \n",
      "\n",
      "\n",
      "one of my wont is a long lines from the  \n",
      " other two is this indian \n",
      "\n",
      "\n",
      "1 and 2 wont  \n",
      " long your wont 1 and 2you lines one you indian have two \n",
      "\n",
      "\n",
      "what was the long 6 wont of the indian lines 7  \n",
      " because 7 8 9 a \n",
      "\n",
      "\n",
      "long and indian  \n",
      " long is a wont indian is a wont they why long and indian lines is not a wont lines \n",
      "\n",
      "\n",
      "on a wont between 1 to 10  \n",
      " how long is it that this lines is in indian \n",
      "\n",
      "\n",
      "how very is a very long wont  \n",
      " very indian of this lines if it was long \n",
      "\n",
      "\n",
      "how long are you  \n",
      " wont how long are indian no wont its lines how are you \n",
      "\n",
      "\n",
      "no wont is long indian for a lines  \n",
      " but no wont is long indian for a lines \n",
      "\n",
      "\n",
      "why is the long indian only 11 wont  \n",
      " because if it was 12 wont it would be a lines \n",
      "\n",
      "\n",
      "what is the wont of an long  \n",
      " what is the wont of an indian lines \n",
      "\n",
      "\n",
      "why was the 40 wont lines so long to the 50 wont lines  \n",
      " because its very indian \n",
      "\n",
      "\n"
     ]
    }
   ],
   "source": [
    "num_n = len(inp_nouns)\n",
    "num_v = len(inp_verbs)\n",
    "num_a = len(inp_adjs)\n",
    "x = num_n + num_v + num_a\n",
    "for i in temp_data:\n",
    "    if i['noun'] == num_n and i['verb'] == num_v and i['adj'] == num_a:\n",
    "        setup = i['setup_temp']\n",
    "        punch = i['punch_temp']\n",
    "        if num_n>0:\n",
    "            for j in range(1,num_n+1):\n",
    "                setup = setup.replace(f'NOUN_{j}',inp_nouns[j-1])\n",
    "                punch = punch.replace(f'NOUN_{j}',inp_nouns[j-1])\n",
    "        if num_v>0:\n",
    "            for j in range(1,num_v+1):\n",
    "                setup = setup.replace(f'VERB_{j}',inp_verbs[j-1])\n",
    "                punch = punch.replace(f'VERB_{j}',inp_verbs[j-1])\n",
    "        if num_a>0:\n",
    "            for j in range(1,num_a+1):\n",
    "                setup = setup.replace(f'ADJUNCT_{j}',inp_adjs[j-1])\n",
    "                punch = punch.replace(f'ADJUNCT_{j}',inp_adjs[j-1])\n",
    "        tot = len(setup.split(' '))+len(punch.split(' '))\n",
    "        if tot/x>4:\n",
    "            print(setup,'\\n',punch)\n",
    "            print('\\n')"
   ]
  },
  {
   "cell_type": "code",
   "execution_count": null,
   "metadata": {},
   "outputs": [],
   "source": []
  }
 ],
 "metadata": {
  "kernelspec": {
   "display_name": "Python 3",
   "language": "python",
   "name": "python3"
  },
  "language_info": {
   "codemirror_mode": {
    "name": "ipython",
    "version": 3
   },
   "file_extension": ".py",
   "mimetype": "text/x-python",
   "name": "python",
   "nbconvert_exporter": "python",
   "pygments_lexer": "ipython3",
   "version": "3.8.5"
  }
 },
 "nbformat": 4,
 "nbformat_minor": 4
}
