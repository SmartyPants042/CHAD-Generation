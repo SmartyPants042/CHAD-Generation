{
  "nbformat": 4,
  "nbformat_minor": 0,
  "metadata": {
    "colab": {
      "name": "TorchJokes.ipynb",
      "provenance": [],
      "collapsed_sections": []
    },
    "kernelspec": {
      "name": "python3",
      "display_name": "Python 3"
    },
    "accelerator": "GPU"
  },
  "cells": [
    {
      "cell_type": "code",
      "metadata": {
        "id": "ZxFz47iDv6og"
      },
      "source": [
        "from collections import Counter\n",
        "\n",
        "import numpy as np\n",
        "import pandas as pd\n",
        "\n",
        "from tqdm import tqdm\n",
        "\n",
        "\n",
        "import spacy\n",
        "nlp = spacy.load('en_core_web_sm')\n",
        "\n",
        "import torch\n",
        "import torch.nn as nn\n",
        "import torch.nn.functional as F\n",
        "import torch.optim as optim\n",
        "from torch.utils.data import DataLoader\n",
        "\n",
        "torch.manual_seed(1)\n",
        "\n",
        "from torchtext.vocab import GloVe\n",
        "\n",
        "import matplotlib.pyplot as plt"
      ],
      "execution_count": null,
      "outputs": []
    },
    {
      "cell_type": "code",
      "metadata": {
        "id": "JMxYQpL7QH46",
        "colab": {
          "base_uri": "https://localhost:8080/"
        },
        "outputId": "a05171b5-9b60-411d-84f3-26eed851924c"
      },
      "source": [
        "ask_pre_embed = input(\"Use Pretrained Embeddings? (y/yes)\")\n",
        "use_pre_embed = True if ask_pre_embed == 'y' or ask_pre_embed == 'yes' else False\n",
        "\n",
        "if use_pre_embed:\n",
        "    print(\"Will use Pre trained Embeddings!\")\n",
        "    embed_dim = 100\n",
        "    pre_embed = GloVe(name='6B', dim=embed_dim)\n",
        "else:\n",
        "    print(\"Will train own embeddings.\")"
      ],
      "execution_count": null,
      "outputs": []
    },
    {
      "cell_type": "code",
      "metadata": {
        "id": "fNkUzJpzv9Ng",
        "colab": {
          "base_uri": "https://localhost:8080/"
        },
        "outputId": "7cef9fef-3662-47d3-8135-09802ff6f9a0"
      },
      "source": [
        "df = pd.read_csv('./Corpus/Jokes/reddit_jokes.csv', names=['ID', 'Joke'], header=1, nrows=9000)\n",
        "df.set_index('ID', inplace=True)"
      ],
      "execution_count": null,
      "outputs": []
    },
    {
      "cell_type": "code",
      "metadata": {
        "id": "URC18FrQv_ui",
        "colab": {
          "base_uri": "https://localhost:8080/"
        },
        "outputId": "57ffc49b-a7cf-41a5-e02f-260ccc8f8d10"
      },
      "source": [
        "print('Using device:', torch.device('cuda' if torch.cuda.is_available() else 'cpu'))"
      ],
      "execution_count": null,
      "outputs": []
    },
    {
      "cell_type": "code",
      "metadata": {
        "id": "ny0VPCNoKvlM"
      },
      "source": [
        "SEQUENCE_LENGTH = 3\n",
        "EPOCHS = 4\n",
        "\n",
        "BATCH_SIZE = 32\n",
        "\n",
        "MODEL_CONFIG = {\n",
        "    'pre_embed': use_pre_embed,\n",
        "    'embedding_dim': embed_dim,\n",
        "    'lstm_cells': 100,\n",
        "    'lstm_num_layers': 2,\n",
        "    'lstm_dropout': 0.2,\n",
        "    'bi_lstm': True\n",
        "}\n",
        "\n",
        "PREDICTION_SIZE = 20"
      ],
      "execution_count": null,
      "outputs": []
    },
    {
      "cell_type": "code",
      "metadata": {
        "id": "OCzWY_HXCFVp"
      },
      "source": [
        "class Dataset(torch.utils.data.Dataset):\n",
        "    def __init__(self):\n",
        "\n",
        "        self.SEQUENCE_LENGTH = SEQUENCE_LENGTH\n",
        "        self.words = self.load_words() \n",
        "        self.uniq_words = self.get_uniq_words()\n",
        "\n",
        "        self.index_to_word = {index: word for index, word in enumerate(self.uniq_words)}\n",
        "        self.word_to_index = {word: index for index, word in enumerate(self.uniq_words)}\n",
        "\n",
        "        self.words_indexes = [self.word_to_index[w] for w in self.words]\n",
        "\n",
        "    def load_words(self):\n",
        "        train_df = df\n",
        "        text = train_df['Joke'].str.cat(sep=' ')\n",
        "        doc = nlp(text)\n",
        "        return [token.text for token in doc]\n",
        "\n",
        "    def get_uniq_words(self):\n",
        "        word_counts = Counter(self.words)\n",
        "        return sorted(word_counts, key=word_counts.get, reverse=True)\n",
        "\n",
        "    def __len__(self):\n",
        "        return len(self.words_indexes) - self.SEQUENCE_LENGTH\n",
        "\n",
        "    def __getitem__(self, index):\n",
        "        return (\n",
        "            torch.tensor(self.words_indexes[index:index+self.SEQUENCE_LENGTH]),\n",
        "            torch.tensor(self.words_indexes[index+1:index+self.SEQUENCE_LENGTH+1]),\n",
        "        )"
      ],
      "execution_count": null,
      "outputs": []
    },
    {
      "cell_type": "code",
      "metadata": {
        "id": "NuZxicAtwSM0"
      },
      "source": [
        "class Model(nn.Module):\n",
        "    def __init__(self, dataset, needed_vector_data ):\n",
        "        \"\"\"\n",
        "        Initialises the model with the given configuration. \n",
        "        Sub class of nn.Module\n",
        "        \"\"\"\n",
        "        super(Model, self).__init__()\n",
        "        \n",
        "        # CONFIGURATION: EMBEDDING\n",
        "        self.embedding_dim = MODEL_CONFIG['embedding_dim']\n",
        "        self.vocab_size = len(dataset.get_uniq_words())\n",
        "        # CONFIGURATION: LSTM\n",
        "        self.lstm_cells = MODEL_CONFIG['lstm_cells']\n",
        "        self.bi_directional = MODEL_CONFIG['bi_lstm']\n",
        "        if self.bi_directional:\n",
        "            self.num_directions = 2\n",
        "        else:\n",
        "            self.num_directions = 1\n",
        "\n",
        "        self.num_layers = MODEL_CONFIG['lstm_num_layers']\n",
        "        self.lstm_dropout = MODEL_CONFIG['lstm_dropout']\n",
        "        \n",
        "        # LAYER: EMBEDDING\n",
        "        self.embedding = nn.Embedding(\n",
        "            num_embeddings=self.vocab_size,\n",
        "            embedding_dim=self.embedding_dim\n",
        "        )\n",
        "\n",
        "        # LOADING WEIGHTS\n",
        "        if MODEL_CONFIG['pre_embed']:\n",
        "            self.embedding.weight.requires_grad = True\n",
        "            self.embedding.weight.data.copy_(needed_vector_data)\n",
        "        \n",
        "        # LAYER: LSTM\n",
        "        self.lstm = nn.LSTM(\n",
        "            input_size=self.lstm_cells,\n",
        "            hidden_size=self.lstm_cells,\n",
        "            num_layers=self.num_layers,\n",
        "            dropout=self.lstm_dropout,\n",
        "            bidirectional=self.bi_directional\n",
        "        )\n",
        "\n",
        "        # LAYER: OUTPUT\n",
        "        self.fc = nn.Linear(\n",
        "            in_features=self.lstm_cells,\n",
        "            out_features=self.vocab_size\n",
        "        )\n",
        "\n",
        "    def forward(self, x, prev_state):\n",
        "        \"\"\"\n",
        "        Makes a forward pass through the model as created above.\n",
        "        inputs:\n",
        "            self\n",
        "            x: The new input\n",
        "            prev_state: Used by LSTMs\n",
        "        \"\"\"\n",
        "        embed = self.embedding(x)\n",
        "        output, state = self.lstm(embed, prev_state)\n",
        "        logits = self.fc(output)\n",
        "\n",
        "        return logits, state\n",
        "    \n",
        "    def init_lstm(self, SEQUENCE_LENGTH):\n",
        "        return (\n",
        "            torch.zeros(self.num_layers*self.num_directions, SEQUENCE_LENGTH, self.lstm_cells),\n",
        "            torch.zeros(self.num_layers*self.num_directions, SEQUENCE_LENGTH, self.lstm_cells)\n",
        "        )"
      ],
      "execution_count": null,
      "outputs": []
    },
    {
      "cell_type": "code",
      "metadata": {
        "id": "7-oWi7Cd5g5S"
      },
      "source": [
        "def train(dataset):\n",
        "    model.train()\n",
        "    data_generator = DataLoader(dataset, batch_size=BATCH_SIZE)\n",
        "\n",
        "    for epoch in range(EPOCHS):\n",
        "        state_h, state_c = model.init_lstm(SEQUENCE_LENGTH)\n",
        "        for batch, (x, y_true) in enumerate(tqdm(data_generator)):\n",
        "            optimizer.zero_grad()\n",
        "\n",
        "            y_pred, (state_h, state_c) = model(x, (state_h, state_c))\n",
        "            loss = criterion(y_pred.transpose(1, 2), y_true)\n",
        "\n",
        "            state_h = state_h.detach()\n",
        "            state_c = state_c.detach()\n",
        "\n",
        "            loss.backward()\n",
        "            optimizer.step()\n",
        "        \n",
        "        loss_values.append(loss.item())\n",
        "        epoch_numbers.append(epoch+1)\n",
        "        print(f\"Epoch: {epoch}, loss: {loss.item()}\")"
      ],
      "execution_count": null,
      "outputs": []
    },
    {
      "cell_type": "code",
      "metadata": {
        "id": "fkT8vtEqFPBP",
        "colab": {
          "base_uri": "https://localhost:8080/"
        },
        "outputId": "0236a242-8e71-4457-f26a-ea0df72ea4fb"
      },
      "source": [
        "dataset = Dataset()\n",
        "\n",
        "needed_vector_data = [pre_embed[word] for word in dataset.uniq_words]\n",
        "needed_vector_data = torch.stack(needed_vector_data)\n",
        "\n",
        "model = Model(dataset, needed_vector_data)\n",
        "\n",
        "criterion = nn.CrossEntropyLoss()\n",
        "optimizer = optim.Adam(model.parameters(), lr=0.01)\n",
        "\n",
        "loss_values = []\n",
        "epoch_numbers = []\n",
        "train(dataset)"
      ],
      "execution_count": null,
      "outputs": []
    },
    {
      "cell_type": "code",
      "metadata": {
        "id": "f1lKn99MjbXc"
      },
      "source": [
        "plt.plot(loss_values, epoch_numbers)"
      ],
      "execution_count": null,
      "outputs": []
    },
    {
      "cell_type": "code",
      "metadata": {
        "id": "GbNPHspwHZ6y"
      },
      "source": [
        "torch.save(model.state_dict(), 'TorchJokes.model')"
      ],
      "execution_count": null,
      "outputs": []
    },
    {
      "cell_type": "code",
      "metadata": {
        "id": "spIrcK5gHeUC"
      },
      "source": [
        "model.load_state_dict(torch.load(\"TorchJokes.model\"))"
      ],
      "execution_count": null,
      "outputs": []
    },
    {
      "cell_type": "code",
      "metadata": {
        "id": "__w6dEo4IcRq"
      },
      "source": [
        "def predict(dataset, model, text, next_words=PREDICTION_SIZE):\n",
        "    model.eval()\n",
        "    doc = nlp(text)\n",
        "    words = [token.text for token in doc]\n",
        "    state_h, state_c = model.init_lstm(len(words))\n",
        "\n",
        "    for i in range(0, next_words):\n",
        "        x = torch.tensor([[dataset.word_to_index[w] for w in words[i:]]])\n",
        "        y_pred, (state_h, state_c) = model(x, (state_h, state_c))\n",
        "\n",
        "        last_word_logits = y_pred[0][-1]\n",
        "        p = torch.nn.functional.softmax(last_word_logits, dim=0).detach().numpy()\n",
        "        word_index = np.random.choice(len(last_word_logits), p=p)\n",
        "        words.append(dataset.index_to_word[word_index])\n",
        "\n",
        "    return words"
      ],
      "execution_count": null,
      "outputs": []
    },
    {
      "cell_type": "code",
      "metadata": {
        "id": "NobWvyRxId_p"
      },
      "source": [
        "words_list = (predict(dataset, model, text='Knock knock. Whos there?'))\n",
        "joke = \"\"\n",
        "for word in words_list:\n",
        "    joke += word + \" \"\n",
        "print(joke)"
      ],
      "execution_count": null,
      "outputs": []
    }
  ]
}